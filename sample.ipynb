{
 "cells": [
  {
   "cell_type": "code",
   "execution_count": null,
   "metadata": {
    "colab": {
     "base_uri": "https://localhost:8080/"
    },
    "id": "IlyCnvf6WzjR",
    "outputId": "6472ea3f-a960-4f10-c955-03db70926baf"
   },
   "outputs": [],
   "source": [
    "\"\"\"Headers\"\"\"\n",
    "\n",
    "from __future__ import print_function\n",
    "from PIL import Image\n",
    "import os\n",
    "import os.path\n",
    "import numpy as np\n",
    "import sys\n",
    "if sys.version_info[0] == 2:\n",
    "    import cPickle as pickle\n",
    "else:\n",
    "    import pickle\n",
    "\n",
    "import torch.utils.data as data\n",
    "from torchvision.datasets.utils import download_url, check_integrity\n",
    "\n",
    "import csv\n",
    "%matplotlib inline\n",
    "import matplotlib\n",
    "import matplotlib.pyplot as plt\n",
    "import numpy as np\n",
    "import os.path\n",
    "import sys\n",
    "import librosa\n",
    "import torch\n",
    "import torch.utils.data\n",
    "import torchvision\n",
    "import torchvision.transforms as transforms\n",
    "\n",
    "from torch.autograd import Variable\n",
    "import torch.nn as nn\n",
    "import torch.nn.functional as F\n",
    "\n",
    "import IPython\n",
    "\n",
    "import soundfile\n",
    "\n",
    "np.random.seed(111)\n",
    "torch.cuda.manual_seed_all(111)\n",
    "torch.manual_seed(111)\n",
    "\n",
    "melgan = torch.hub.load('descriptinc/melgan-neurips', 'load_melgan')\n",
    "\n",
    "from model import MaskCycleGANVC\n",
    "from dataLoader import DataSet\n",
    "from util import showAudio"
   ]
  },
  {
   "cell_type": "markdown",
   "metadata": {},
   "source": [
    "# MelGAN Test"
   ]
  },
  {
   "cell_type": "code",
   "execution_count": null,
   "metadata": {
    "colab": {
     "base_uri": "https://localhost:8080/",
     "height": 104
    },
    "id": "uEVDriXDvtpB",
    "outputId": "6fdc108f-6522-4dbb-f604-bfc1436f9687"
   },
   "outputs": [],
   "source": [
    "sample, fs = librosa.load('vcc2018_database_training/vcc2018_training/VCC2SM2/10001.wav')\n",
    "train_data= melgan(torch.tensor(np.expand_dims(sample, axis = 0)))\n",
    "y = melgan.inverse(train_data).cpu()\n",
    "print('Original')\n",
    "IPython.display.display(IPython.display.Audio(sample , rate = 44100 / 2))\n",
    "print('Reconstructed')\n",
    "IPython.display.display(IPython.display.Audio(y , rate = 44100 / 2))"
   ]
  },
  {
   "cell_type": "markdown",
   "metadata": {},
   "source": [
    "# Load Datasets"
   ]
  },
  {
   "cell_type": "code",
   "execution_count": null,
   "metadata": {},
   "outputs": [],
   "source": [
    "IS_GPU = False\n",
    "TRAIN_BS = 1\n",
    "\n",
    "aSet = DataSet(fold=\"A\")\n",
    "\n",
    "print(aSet.train_data[0].shape)\n",
    "\n",
    "if IS_GPU:\n",
    "    aLoader = torch.utils.data.DataLoader(aSet, batch_size=TRAIN_BS,\n",
    "                                          shuffle=True, num_workers=2)\n",
    "else:\n",
    "    aLoader = torch.utils.data.DataLoader(aSet, batch_size=TRAIN_BS,\n",
    "                                          shuffle=True, num_workers=0)\n",
    "print(\"Train set size: \"+str(len(aSet)))\n",
    "\n",
    "bSet = DataSet(fold=\"B\")\n",
    "\n",
    "if IS_GPU:\n",
    "    bLoader = torch.utils.data.DataLoader(bSet, batch_size=TRAIN_BS,\n",
    "                                          shuffle=True, num_workers=2)\n",
    "else:\n",
    "    bLoader = torch.utils.data.DataLoader(bSet, batch_size=TRAIN_BS,\n",
    "                                          shuffle=True, num_workers=0)\n",
    "print(\"Train set size: \"+str(len(bSet)))"
   ]
  },
  {
   "cell_type": "code",
   "execution_count": null,
   "metadata": {},
   "outputs": [],
   "source": [
    "aTestSet = DataSet(fold=\"ATest\")\n",
    "\n",
    "if IS_GPU:\n",
    "    aTestLoader = torch.utils.data.DataLoader(aTestSet, batch_size=TRAIN_BS,\n",
    "                                          shuffle=False, num_workers=2)\n",
    "else:\n",
    "    aTestLoader = torch.utils.data.DataLoader(aTestSet, batch_size=TRAIN_BS,\n",
    "                                          shuffle=False, num_workers=0)\n",
    "print(\"Test set size: \"+str(len(aTestSet)))\n",
    "\n",
    "bTestSet = DataSet(fold=\"BTest\")\n",
    "\n",
    "if IS_GPU:\n",
    "    bTestLoader = torch.utils.data.DataLoader(bTestSet, batch_size=TRAIN_BS,\n",
    "                                          shuffle=False, num_workers=2)\n",
    "else:\n",
    "    bTestLoader = torch.utils.data.DataLoader(bTestSet, batch_size=TRAIN_BS,\n",
    "                                          shuffle=False, num_workers=0)\n",
    "print(\"Test set size: \"+str(len(bTestSet)))"
   ]
  },
  {
   "cell_type": "markdown",
   "metadata": {},
   "source": [
    "# Initiate Training"
   ]
  },
  {
   "cell_type": "code",
   "execution_count": null,
   "metadata": {
    "id": "k2uEOqo1KHSj"
   },
   "outputs": [],
   "source": [
    "network = MaskCycleGANVC()\n",
    "\n",
    "network.load('.', '64F1M2logParams_l=10')\n",
    "\n",
    "network.train(aLoader, bLoader)"
   ]
  },
  {
   "cell_type": "markdown",
   "metadata": {},
   "source": [
    "# Show Losses"
   ]
  },
  {
   "cell_type": "code",
   "execution_count": null,
   "metadata": {
    "colab": {
     "base_uri": "https://localhost:8080/",
     "height": 1000
    },
    "id": "PdgrZ4vVYUgN",
    "outputId": "aaefa866-1b6b-48d2-e0ee-48a60b4b8e8e"
   },
   "outputs": [],
   "source": [
    "plt.plot(network.genLossOverEpochs)\n",
    "plt.xlabel('Epoch')\n",
    "plt.ylabel('Generator Loss')\n",
    "plt.show()\n",
    "plt.plot(network.aDiscLossOverEpochs)\n",
    "plt.xlabel('Epoch')\n",
    "plt.ylabel('Disc A Loss')\n",
    "plt.show()\n",
    "plt.plot(network.bDiscLossOverEpochs)\n",
    "plt.xlabel('Epoch')\n",
    "plt.ylabel('Disc B Loss')\n",
    "plt.show()\n",
    "plt.plot(network.a2DiscLossOverEpochs)\n",
    "plt.xlabel('Epoch')\n",
    "plt.ylabel('Disc A2 Loss')\n",
    "plt.show()\n",
    "plt.plot(network.b2DiscLossOverEpochs)\n",
    "plt.xlabel('Epoch')\n",
    "plt.ylabel('Disc B2 Loss')\n",
    "plt.show()"
   ]
  },
  {
   "cell_type": "markdown",
   "metadata": {},
   "source": [
    "# Viewing Results\n",
    "## B to A"
   ]
  },
  {
   "cell_type": "code",
   "execution_count": null,
   "metadata": {
    "colab": {
     "base_uri": "https://localhost:8080/",
     "height": 462
    },
    "id": "pxe2XnuyXyEc",
    "outputId": "e668a377-af9f-4fe4-b056-705ad24f1216"
   },
   "outputs": [],
   "source": [
    "#catgen.eval()\n",
    "a_iterator = iter(aTestLoader)\n",
    "adata, aMean, aStd = next(a_iterator)\n",
    "\n",
    "b_iterator = iter(bTestLoader)\n",
    "data, bMean, bStd = next(b_iterator)\n",
    "\n",
    "inputs = torch.cat((data.clone(), torch.ones(data.shape)), axis = 1)\n",
    "if IS_GPU:\n",
    "  inputs = inputs.cuda()\n",
    "\n",
    "# wrap them in Variable\n",
    "inputs = Variable(inputs.float())\n",
    "bToA = network.agen(inputs).cpu()\n",
    "if IS_GPU:\n",
    "    rec = network.bgen(torch.cat((network.agen(inputs).clone(), torch.ones(bToA.shape).cuda()), axis = 1)).cpu()\n",
    "else:\n",
    "    rec = network.bgen(torch.cat((network.agen(inputs).clone(), torch.ones(bToA.shape)), axis = 1)).cpu()"
   ]
  },
  {
   "cell_type": "code",
   "execution_count": null,
   "metadata": {
    "colab": {
     "base_uri": "https://localhost:8080/",
     "height": 185
    },
    "id": "uBipkw8_YpNg",
    "outputId": "3f191375-b278-473c-f027-433363957836"
   },
   "outputs": [],
   "source": [
    "print('Original (Reconstructed)')\n",
    "showAudio(data, bMean, bStd)\n",
    "print('A Speaker')\n",
    "showAudio(bToA, aMean, aStd)\n",
    "print('B -> A -> B (should be same as Original)')\n",
    "showAudio(rec, bMean, bStd)"
   ]
  },
  {
   "cell_type": "markdown",
   "metadata": {},
   "source": [
    "# A to B"
   ]
  },
  {
   "cell_type": "code",
   "execution_count": null,
   "metadata": {
    "colab": {
     "base_uri": "https://localhost:8080/",
     "height": 747
    },
    "id": "s6y8RzOMk_7T",
    "outputId": "c6aad795-b0ed-4da1-b2fe-968e5cd23ef6"
   },
   "outputs": [],
   "source": [
    "inputs = torch.cat((adata.clone(), torch.ones(adata.shape)), axis = 1)\n",
    "if IS_GPU:\n",
    "  inputs = inputs.cuda()\n",
    "\n",
    "# wrap them in Variable\n",
    "inputs = Variable(inputs.float())\n",
    "aToB = network.bgen(inputs).cpu()\n",
    "if IS_GPU:\n",
    "    rec = network.agen(torch.cat((network.bgen(inputs).clone(), torch.ones(aToB.shape).cuda()), axis = 1)).cpu()\n",
    "else:\n",
    "    rec = network.agen(torch.cat((network.bgen(inputs).clone(), torch.ones(aToB.shape)), axis = 1))"
   ]
  },
  {
   "cell_type": "code",
   "execution_count": null,
   "metadata": {
    "colab": {
     "base_uri": "https://localhost:8080/",
     "height": 148
    },
    "id": "0_5gXZmcow3M",
    "outputId": "ddf8e11b-93e1-489f-bb94-b373dfe99883"
   },
   "outputs": [],
   "source": [
    "print('Original (Reconstructed)')\n",
    "showAudio(adata, aMean, aStd)\n",
    "print('B Speaker')\n",
    "showAudio(aToB, bMean, bStd)\n",
    "print('A -> B -> A (Should be same as Original)')\n",
    "showAudio(rec, aMean, aStd)"
   ]
  },
  {
   "cell_type": "code",
   "execution_count": null,
   "metadata": {
    "id": "lQGanSuYhUq6"
   },
   "outputs": [],
   "source": []
  }
 ],
 "metadata": {
  "accelerator": "GPU",
  "colab": {
   "collapsed_sections": [],
   "name": "cycle64.ipynb",
   "provenance": []
  },
  "kernelspec": {
   "display_name": "Python 3",
   "language": "python",
   "name": "python3"
  },
  "language_info": {
   "codemirror_mode": {
    "name": "ipython",
    "version": 3
   },
   "file_extension": ".py",
   "mimetype": "text/x-python",
   "name": "python",
   "nbconvert_exporter": "python",
   "pygments_lexer": "ipython3",
   "version": "3.6.6"
  }
 },
 "nbformat": 4,
 "nbformat_minor": 1
}
